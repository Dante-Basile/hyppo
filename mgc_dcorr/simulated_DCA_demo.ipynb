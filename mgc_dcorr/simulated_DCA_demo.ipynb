{
 "cells": [
  {
   "cell_type": "markdown",
   "id": "eb45e452-c3cf-4058-a623-1a21f4194626",
   "metadata": {},
   "source": [
    "# Simulated DCA Demo"
   ]
  },
  {
   "cell_type": "code",
   "execution_count": 1,
   "id": "011d0710-ea73-4798-9211-019d5dfbb6a1",
   "metadata": {},
   "outputs": [],
   "source": [
    "from hyppo.tools import SIMULATIONS\n",
    "from matplotlib import cm\n",
    "from matplotlib.lines import Line2D\n",
    "import matplotlib.pyplot as plt\n",
    "import numpy as np\n",
    "from numpy import linalg as LA\n",
    "import pickle\n",
    "\n",
    "import dist_cov as dc"
   ]
  },
  {
   "cell_type": "code",
   "execution_count": 2,
   "id": "b19d77cb-01db-4ee7-b85b-98be429e2d2d",
   "metadata": {},
   "outputs": [],
   "source": [
    "np.random.seed(4)"
   ]
  },
  {
   "cell_type": "markdown",
   "id": "b4758e66-c5a2-425a-b548-e88b96d3caf8",
   "metadata": {},
   "source": [
    "# 1D Simulated Linear Independence Data\n",
    "## Plot Dataset"
   ]
  },
  {
   "cell_type": "code",
   "execution_count": 3,
   "id": "55ebb210-d71d-47d4-b599-c6c59cf314e8",
   "metadata": {},
   "outputs": [
    {
     "data": {
      "image/png": "[encoded data removed]",
      "text/plain": [
       "<Figure size 432x288 with 1 Axes>"
      ]
     },
     "metadata": {
      "needs_background": "light"
     },
     "output_type": "display_data"
    }
   ],
   "source": [
    "lin_sim = SIMULATIONS[\"linear\"]\n",
    "lin_x_n, lin_y_n = lin_sim(100, 1, noise=True)\n",
    "lin_x, lin_y = lin_sim(1000, 1)\n",
    "plt.scatter(lin_x_n, lin_y_n)\n",
    "plt.scatter(lin_x, lin_y)\n",
    "plt.xlabel(\"X\")\n",
    "plt.ylabel(\"Y\")\n",
    "plt.title(\"1D Linear Independence Simulation\")\n",
    "plt.legend([\"noise\", \"no noise\"]);"
   ]
  },
  {
   "cell_type": "markdown",
   "id": "202f273a-0206-4565-b1b4-cd1ad3f40b2f",
   "metadata": {},
   "source": [
    "## Initialize Data"
   ]
  },
  {
   "cell_type": "code",
   "execution_count": 4,
   "id": "e76b8641-163e-40ea-9e0e-4a7b4e7642b3",
   "metadata": {},
   "outputs": [
    {
     "name": "stdout",
     "output_type": "stream",
     "text": [
      "X shape: (10, 1)\n",
      "Y shape: (10, 1)\n",
      "u: [[0.01399029]]\n",
      "u norm: 1.0\n"
     ]
    }
   ],
   "source": [
    "X, Y = lin_sim(10, 1, noise=True)\n",
    "D_X = dc.dist_mat(X)\n",
    "D_Y = dc.dist_mat(Y)\n",
    "R_X = dc.re_centered_dist(D_X)\n",
    "R_Y = dc.re_centered_dist(D_Y)\n",
    "u = np.random.rand(X.shape[1], 1)\n",
    "u_normalized_norm = LA.norm(dc.normalize_u(u))\n",
    "print(f\"X shape: {X.shape}\")\n",
    "print(f\"Y shape: {Y.shape}\")\n",
    "print(f\"u: {u}\")\n",
    "print(f\"u norm: {u_normalized_norm}\")\n",
    "R_X_u = dc.re_centered_dist_u(u, X)"
   ]
  },
  {
   "cell_type": "markdown",
   "id": "890a6a92-6a13-4dae-aa0b-7b57fb434624",
   "metadata": {},
   "source": [
    "## Test Function Dimension Alignment"
   ]
  },
  {
   "cell_type": "code",
   "execution_count": 5,
   "id": "3af69b44-19c3-4fbf-b5c7-b94a6c3aa22a",
   "metadata": {},
   "outputs": [
    {
     "name": "stdout",
     "output_type": "stream",
     "text": [
      "dvdu: [nan nan nan nan nan nan nan nan nan nan]\n",
      "v^2: 0.7133820035587739\n"
     ]
    }
   ],
   "source": [
    "du = dc.dist_cov_sq_grad(u, X, R_Y)\n",
    "print(f\"dvdu: {du}\")\n",
    "v = dc.dist_cov_sq(R_X, R_Y)\n",
    "print(f\"v^2: {v}\")"
   ]
  },
  {
   "cell_type": "markdown",
   "id": "96f699f9-9ed9-49fa-adbf-41a2ab5321be",
   "metadata": {},
   "source": [
    "## Optimize $u$"
   ]
  },
  {
   "cell_type": "code",
   "execution_count": null,
   "id": "98683c3c-bc9f-4d65-9da0-6087435c67f3",
   "metadata": {},
   "outputs": [],
   "source": [
    "v_u = dc.dist_cov_sq(R_Y, R_X_u)\n",
    "print(f\"v^2_u: {v_u}\")\n",
    "u_opt, v_opt = dc.optim_u_gd_stochastic(u, X, R_Y, 1e-1, 1e-7)\n",
    "print(f\"u opt: {u_opt}\")\n",
    "print(f\"v^2_u_opt: {v_opt}\")"
   ]
  },
  {
   "cell_type": "markdown",
   "id": "e3597bc6-8db4-4dc1-8b09-e5882e0460d2",
   "metadata": {},
   "source": [
    "## Plot Gradient Ascent"
   ]
  },
  {
   "cell_type": "code",
   "execution_count": null,
   "id": "4d51c213-8a16-448f-b645-33e5436af949",
   "metadata": {},
   "outputs": [],
   "source": [
    "u_plt = np.expand_dims(np.linspace(-1, 1, 11), 1)\n",
    "v_u_plt = np.zeros_like(u_plt)\n",
    "for i in range(u_plt.shape[0]):\n",
    "    R_X_u_i = dc.re_centered_dist_u(u_plt[i], X)\n",
    "    v_u_i = dc.dist_cov_sq(R_Y, R_X_u_i)\n",
    "    v_u_plt[i] = v_u_i\n",
    "plt.plot(u_plt, v_u_plt)\n",
    "plt.scatter([u], [v_u])\n",
    "plt.scatter([u_opt], [v_opt])\n",
    "plt.xlabel(r\"$u$\")\n",
    "plt.ylabel(r\"$v^2$\")\n",
    "plt.title(r\"1D Linear Independence $u$ Optimization\")\n",
    "plt.legend([r'$v$ surface', r'$v^2$ init', r'$v^2$ opt']);"
   ]
  },
  {
   "cell_type": "markdown",
   "id": "fd6b089b-3efb-4547-968e-7886d3e257fa",
   "metadata": {},
   "source": [
    "# 2D Simulated Linear Independence Data\n",
    "## Plot Dataset"
   ]
  },
  {
   "cell_type": "code",
   "execution_count": null,
   "id": "c6b15cda-3dd8-4aff-911a-40d963b601f2",
   "metadata": {},
   "outputs": [],
   "source": [
    "lin_sim = SIMULATIONS[\"linear\"]\n",
    "lin_x_n, lin_y_n = lin_sim(1000, 2, noise=True)\n",
    "lin_x, lin_y = lin_sim(10000, 2)\n",
    "\n",
    "lin_x_1_n = lin_x_n[:, 0]\n",
    "lin_x_2_n = lin_x_n[:, 1]\n",
    "lin_x_1 = lin_x[:, 0]\n",
    "lin_x_2 = lin_x[:, 1]\n",
    "\n",
    "fig = plt.figure(figsize=(10, 10))\n",
    "ax = fig.add_subplot(projection='3d')\n",
    "ax.scatter(lin_x_1_n, lin_x_2_n, lin_y_n)\n",
    "ax.scatter(lin_x_1, lin_x_2, lin_y)\n",
    "ax.set_xlabel(r\"$X_0$\")\n",
    "ax.set_ylabel(r\"$X_1$\")\n",
    "ax.set_zlabel(r\"$Y$\")\n",
    "plt.title(\"2D Linear Independence Simulation\")\n",
    "plt.legend([\"noise\", \"no noise\"])\n",
    "ax.view_init(elev=20, azim=100);"
   ]
  },
  {
   "cell_type": "markdown",
   "id": "b8db4e0c-2701-4e21-bf67-6b950cb623fb",
   "metadata": {},
   "source": [
    "## Initialize Data"
   ]
  },
  {
   "cell_type": "code",
   "execution_count": null,
   "id": "ab210a0f-9806-448b-a19b-7d07739888c2",
   "metadata": {},
   "outputs": [],
   "source": [
    "X, Y = lin_sim(10, 2, noise=True)\n",
    "D_X = dc.dist_mat(X)\n",
    "D_Y = dc.dist_mat(Y)\n",
    "R_X = dc.re_centered_dist(D_X)\n",
    "R_Y = dc.re_centered_dist(D_Y)\n",
    "u = np.random.rand(X.shape[1])\n",
    "u = dc.normalize_u(u)\n",
    "u_norm = LA.norm(u)\n",
    "print(f\"X shape: {X.shape}\")\n",
    "print(f\"Y shape: {Y.shape}\")\n",
    "print(f\"u: {u}\")\n",
    "print(f\"u norm: {u_norm}\")\n",
    "R_X_u = dc.re_centered_dist_u(u, X)"
   ]
  },
  {
   "cell_type": "markdown",
   "id": "9c4ae04d-85ed-41a1-9de2-00170bfe2cbc",
   "metadata": {},
   "source": [
    "## Test Function Dimension Alignment"
   ]
  },
  {
   "cell_type": "code",
   "execution_count": null,
   "id": "81e746f1-2afd-44ef-a654-e630cec33c7c",
   "metadata": {},
   "outputs": [],
   "source": [
    "du = dc.dist_cov_sq_grad(u, X, R_Y)\n",
    "print(f\"dvdu: {du}\")\n",
    "v = dc.dist_cov_sq(R_X, R_Y)\n",
    "print(f\"v^2: {v}\")"
   ]
  },
  {
   "cell_type": "markdown",
   "id": "af29593a-1c63-4ab6-92cb-35f4143c9091",
   "metadata": {},
   "source": [
    "## Optimize $u$"
   ]
  },
  {
   "cell_type": "code",
   "execution_count": null,
   "id": "1da9495a-1b84-4607-9f5b-3599946ac160",
   "metadata": {},
   "outputs": [],
   "source": [
    "v_u = dc.dist_cov_sq(R_Y, R_X_u)\n",
    "print(f\"v^2_u: {v_u}\")\n",
    "u_opt, v_opt = dc.optim_u_gd_stochastic(u, X, R_Y, 1e-2, 1e-14)\n",
    "print(f\"u opt: {u_opt}\")\n",
    "print(f\"v^2_u_opt: {v_opt}\")"
   ]
  },
  {
   "cell_type": "markdown",
   "id": "66c9c227-462b-4b9b-9622-fc3f328af2ee",
   "metadata": {},
   "source": [
    "## Plot Gradient Ascent"
   ]
  },
  {
   "cell_type": "code",
   "execution_count": null,
   "id": "a258ede2-0088-429d-b527-cfe0b97837aa",
   "metadata": {},
   "outputs": [],
   "source": [
    "surf_res = 1e-1\n",
    "X_surf = np.arange(-1, 1, surf_res)\n",
    "Y_surf = np.arange(-1, 1, surf_res)\n",
    "X_surf, Y_surf = np.meshgrid(X_surf, Y_surf)\n",
    "v_u_plt = np.zeros_like(X_surf)\n",
    "for i in range(X_surf.shape[0]):\n",
    "    for j in range(X_surf.shape[1]):\n",
    "        R_X_u_i = dc.re_centered_dist_u(np.array([X_surf[i, j], Y_surf[i, j]]), X)\n",
    "        v_u_i = dc.dist_cov_sq(R_Y, R_X_u_i)\n",
    "        v_u_plt[i, j] = v_u_i"
   ]
  },
  {
   "cell_type": "code",
   "execution_count": null,
   "id": "9779c282-e8d8-4a82-9226-6f971dbdb14e",
   "metadata": {},
   "outputs": [],
   "source": [
    "fig, ax = plt.subplots(subplot_kw={\"projection\": \"3d\"}, figsize=(10,10))\n",
    "surf = ax.plot_surface(X_surf, Y_surf, v_u_plt, cmap=cm.coolwarm, linewidth=0, antialiased=True, alpha=.7)\n",
    "ax.scatter([u[0]], [u[1]], [v_u])\n",
    "ax.scatter([u_opt[0]], [u_opt[1]], [v_opt])\n",
    "ax.set_xlabel(r\"$u_0$\")\n",
    "ax.set_ylabel(r\"$u_1$\")\n",
    "ax.set_zlabel(r\"$v^2$\")\n",
    "ax.set_title(r\"2D Linear Independence $u$ Optimization\")\n",
    "init_proxy = Line2D([0], [0], linestyle=\"none\", c='blue', marker='o')\n",
    "opt_proxy = Line2D([0], [0], linestyle=\"none\", c='orange', marker='o')\n",
    "ax.legend([init_proxy, opt_proxy], [r\"$v^2$ init\", r\"$v^2$ opt\"], numpoints=1)\n",
    "fig.colorbar(surf, shrink=0.5, aspect=10)\n",
    "ax.view_init(elev=40, azim=180);"
   ]
  },
  {
   "cell_type": "markdown",
   "id": "884b1124-07f0-4528-a3c2-dea236ab8a64",
   "metadata": {},
   "source": [
    "# nD Simulated Linear Independence Data\n",
    "## Initialize Data"
   ]
  },
  {
   "cell_type": "code",
   "execution_count": null,
   "id": "fd52eb41-0b63-433a-b9c9-3d4b510eba3f",
   "metadata": {},
   "outputs": [],
   "source": [
    "lin_sim = SIMULATIONS[\"linear\"]\n",
    "X, Y = lin_sim(100, 10, noise=True)\n",
    "D_X = dc.dist_mat(X)\n",
    "D_Y = dc.dist_mat(Y)\n",
    "R_X = dc.re_centered_dist(D_X)\n",
    "R_Y = dc.re_centered_dist(D_Y)\n",
    "u = np.random.rand(X.shape[1])\n",
    "u = dc.normalize_u(u)\n",
    "u_norm = LA.norm(u)\n",
    "print(f\"X shape: {X.shape}\")\n",
    "print(f\"Y shape: {Y.shape}\")\n",
    "print(f\"u: {u}\")\n",
    "print(f\"u norm: {u_norm}\")\n",
    "R_X_u = dc.re_centered_dist_u(u, X)"
   ]
  },
  {
   "cell_type": "markdown",
   "id": "3fb6dd3c-e4c2-4f33-8b3d-1e39908deead",
   "metadata": {},
   "source": [
    "## Test Function Dimension Alignment"
   ]
  },
  {
   "cell_type": "code",
   "execution_count": null,
   "id": "c916bf72-8e70-4b92-918e-afdc7f12c2f6",
   "metadata": {},
   "outputs": [],
   "source": [
    "du = dc.dist_cov_sq_grad(u, X, R_Y)\n",
    "print(f\"dvdu: {du}\")\n",
    "v = dc.dist_cov_sq(R_X, R_Y)\n",
    "print(f\"v^2: {v}\")"
   ]
  },
  {
   "cell_type": "markdown",
   "id": "fca5654a-2ce9-4761-828a-40d4a7868b0e",
   "metadata": {},
   "source": [
    "## Optimize $u$"
   ]
  },
  {
   "cell_type": "code",
   "execution_count": null,
   "id": "6c27cf4c-3cd1-48b6-9b6a-47a6279a1beb",
   "metadata": {},
   "outputs": [],
   "source": [
    "v_u = dc.dist_cov_sq(R_Y, R_X_u)\n",
    "print(f\"v^2_u: {v_u}\")\n",
    "u_opt, v_opt = dc.optim_u_gd_stochastic(u, X, R_Y, 1e-1, 1e-10)\n",
    "print(f\"u opt: {u_opt}\")\n",
    "print(f\"v^2_u_opt: {v_opt}\")"
   ]
  },
  {
   "cell_type": "markdown",
   "id": "61923ced-5e00-49cc-bbe4-994723caa9fc",
   "metadata": {},
   "source": [
    "## DCA"
   ]
  },
  {
   "cell_type": "code",
   "execution_count": null,
   "id": "14a50c3f-48e1-481c-8270-512271060b60",
   "metadata": {},
   "outputs": [],
   "source": [
    "print(f\"X shape: {X.shape}\")\n",
    "print(f\"X:\\n{X[:5]}\")\n",
    "U, v_dca = dc.dca(X, Y, K=3, lr=1e-1, epsilon=1e-10)\n",
    "print(f\"U shape: {U.shape}\")\n",
    "print(f\"U:\\n{U}\")\n",
    "print(f\"v shape: {v_dca.shape}\")\n",
    "print(f\"v: {v_dca}\")\n",
    "X_reduced = X @ U\n",
    "print(f\"X_reduced shape: {X_reduced.shape}\")\n",
    "print(f\"X_reduced:\\n{X_reduced[:5]}\")"
   ]
  },
  {
   "cell_type": "markdown",
   "id": "1a29ef24-5cb9-4d7a-ba87-5f8362476fc0",
   "metadata": {},
   "source": [
    "# Projection"
   ]
  },
  {
   "cell_type": "code",
   "execution_count": null,
   "id": "df4f41e8-2b77-4322-b859-c1b90b06efae",
   "metadata": {},
   "outputs": [],
   "source": [
    "k_pt = 1\n",
    "X_pt = np.array([5, 1])\n",
    "X_pt = X_pt / LA.norm(X_pt)\n",
    "U_pt = np.array([1, 2])\n",
    "U_pt = U_pt / LA.norm(U_pt)\n",
    "U_pt = np.expand_dims(U_pt, 0)\n",
    "q_pt = LA.qr(U_pt[:, :k_pt])\n",
    "X_proj_pt = dc.proj_U(X_pt, U_pt, k_pt)\n",
    "print(q_pt)"
   ]
  },
  {
   "cell_type": "code",
   "execution_count": null,
   "id": "ffb0f849-847c-4940-8f12-a0e0e7cf29e1",
   "metadata": {},
   "outputs": [],
   "source": [
    "x_range_pt = np.linspace(0, 1, 11)\n",
    "plt.plot(X_pt[0] * x_range_pt, X_pt[1] * x_range_pt)\n",
    "plt.plot(U_pt[:, 0] * x_range_pt, U_pt[:, 1] * x_range_pt)\n",
    "plt.plot(q_pt[0] * x_range_pt, q_pt[1] * x_range_pt)\n",
    "plt.plot(X_proj_pt[0] * x_range_pt, X_proj_pt[1] * x_range_pt)\n",
    "plt.legend([\"X\", \"U\", \"q\", \"X proj\"]);"
   ]
  },
  {
   "cell_type": "markdown",
   "id": "d9f2a19e-892a-4da1-a47e-cbf4180b0259",
   "metadata": {},
   "source": [
    "# Replicate Figure 2 from Cowley"
   ]
  },
  {
   "cell_type": "code",
   "execution_count": null,
   "id": "6627eb35-8e00-47a6-83d6-57158df346ec",
   "metadata": {},
   "outputs": [],
   "source": [
    "def unit_vec(v):\n",
    "    return v / LA.norm(v)\n",
    "\n",
    "def vec_angle(v0, v1):\n",
    "    \"\"\"\n",
    "    Radians\n",
    "    \"\"\"\n",
    "    u0 = unit_vec(v0)\n",
    "    u1 = unit_vec(v1)\n",
    "    return np.arccos(np.clip(np.dot(u0, u1), -1., 1.))\n",
    "\n",
    "def beta_angle(beta_hat, beta):\n",
    "    \"\"\"\n",
    "    Mean of all beta_i vectors (P x 1)\n",
    "    \"\"\"\n",
    "    angle = 0\n",
    "    b = beta_hat.shape[1]\n",
    "    for i in range(b):\n",
    "        v0 = beta_hat[:, i]\n",
    "        v1 = beta[:, i]\n",
    "        angle += vec_angle(v0, v1)\n",
    "    return angle / (N * b)\n",
    "\n",
    "def generate_data(N, P, b, f):\n",
    "    \"\"\"\n",
    "    N: number of samples\n",
    "    P: number of features\n",
    "    b: number of dimensions identified from dimensionality reduction\n",
    "    f: degree of nonlinearity\n",
    "    returns\n",
    "        X: (P x N): (feature x sample)\n",
    "        beta: (P x b), beta_i: (P x 1)\n",
    "        Y: (b x N)\n",
    "    \"\"\"\n",
    "    X = np.random.normal(size=(P, N))\n",
    "    beta = np.random.normal(size=(P, b))\n",
    "    beta, _ = LA.qr(beta)\n",
    "    alpha = 8 * np.sqrt(50) * LA.norm(X, ord=np.inf) # normalization constant\n",
    "    Y = np.zeros((b, N))\n",
    "    for i in range(N):\n",
    "        Y[:, i] = np.sin(2 * np.pi / alpha * f * beta.T @ X[:, i]) # (b x P) @ (P x 1) = (b x 1)\n",
    "    return X, beta, Y"
   ]
  },
  {
   "cell_type": "code",
   "execution_count": null,
   "id": "d1aac748-f1dc-4780-b77e-58689036403d",
   "metadata": {},
   "outputs": [],
   "source": [
    "N = 100 # sample\n",
    "P = 5 # feature\n",
    "b = 2 # number of dimensions identified from dimensionality reduction\n",
    "trial_ct = 10\n",
    "f_range = [1] + [i for i in range(10, 130, 10)] # degree of nonlinearity\n",
    "beta_angles = np.zeros((trial_ct, len(f_range)))\n",
    "for i in range(trial_ct):\n",
    "    print(f\"trial: {i}\")\n",
    "    for j, f in enumerate(f_range):\n",
    "        X, beta, Y = generate_data(N, P, b, f)\n",
    "        beta_hat, v_hat = dc.dca(X.T, Y.T, K=b, lr=1e-1, epsilon=1e-10)\n",
    "        angle = beta_angle(beta_hat, beta)\n",
    "        print(f\"f: {f}\")\n",
    "        print(f\"beta angle: {np.rad2deg(angle)} deg\")\n",
    "        beta_angles[i, j] = angle\n",
    "with open(\"dca_betas.pickle\", 'wb') as wf:\n",
    "    pickle.dump(beta_angles, wf)"
   ]
  },
  {
   "cell_type": "code",
   "execution_count": null,
   "id": "f79a64ed-d6cf-4021-bb85-2a81a7abe81b",
   "metadata": {},
   "outputs": [],
   "source": [
    "with open(\"dca_betas.pickle\", 'rb') as rf:\n",
    "    beta_angles = pickle.load(rf)\n",
    "plt.plot(f_range, np.mean(np.rad2deg(beta_angles), axis=0))\n",
    "plt.title(\"Mean Error Angle as a Function of Nonlinearity\")\n",
    "plt.xlabel(\"f\")\n",
    "plt.ylabel(\"angle: beta_hat, beta (deg)\")\n",
    "plt.legend([\"DCA\"]);"
   ]
  },
  {
   "cell_type": "code",
   "execution_count": null,
   "id": "883a17ac-3ecd-4ed7-860c-fe9c897167af",
   "metadata": {},
   "outputs": [],
   "source": []
  }
 ],
 "metadata": {
  "kernelspec": {
   "display_name": "Python 3 (ipykernel)",
   "language": "python",
   "name": "python3"
  },
  "language_info": {
   "codemirror_mode": {
    "name": "ipython",
    "version": 3
   },
   "file_extension": ".py",
   "mimetype": "text/x-python",
   "name": "python",
   "nbconvert_exporter": "python",
   "pygments_lexer": "ipython3",
   "version": "3.9.7"
  }
 },
 "nbformat": 4,
 "nbformat_minor": 5
}
