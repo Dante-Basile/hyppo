{
 "cells": [
  {
   "cell_type": "markdown",
   "id": "eb45e452-c3cf-4058-a623-1a21f4194626",
   "metadata": {},
   "source": [
    "# Simulated DCA Demo"
   ]
  },
  {
   "cell_type": "code",
   "execution_count": 1,
   "id": "011d0710-ea73-4798-9211-019d5dfbb6a1",
   "metadata": {},
   "outputs": [],
   "source": [
    "from hyppo.tools import SIMULATIONS\n",
    "import matplotlib.pyplot as plt\n",
    "import numpy as np\n",
    "from numpy import linalg as LA\n",
    "\n",
    "import dist_cov as dc"
   ]
  },
  {
   "cell_type": "code",
   "execution_count": 2,
   "id": "b19d77cb-01db-4ee7-b85b-98be429e2d2d",
   "metadata": {},
   "outputs": [],
   "source": [
    "np.random.seed(0)"
   ]
  },
  {
   "cell_type": "markdown",
   "id": "b4758e66-c5a2-425a-b548-e88b96d3caf8",
   "metadata": {},
   "source": [
    "# 1D Simulated Linear Independence Data\n",
    "## Plot Dataset"
   ]
  },
  {
   "cell_type": "code",
   "execution_count": 3,
   "id": "55ebb210-d71d-47d4-b599-c6c59cf314e8",
   "metadata": {},
   "outputs": [
    {
     "data": {
      "image/png": "[encoded data removed]",
      "text/plain": [
       "<Figure size 432x288 with 1 Axes>"
      ]
     },
     "metadata": {
      "needs_background": "light"
     },
     "output_type": "display_data"
    }
   ],
   "source": [
    "lin_sim = SIMULATIONS[\"linear\"]\n",
    "lin_x_n, lin_y_n = lin_sim(100, 1, noise=True)\n",
    "lin_x, lin_y = lin_sim(1000, 1)\n",
    "plt.scatter(lin_x_n, lin_y_n)\n",
    "plt.scatter(lin_x, lin_y)\n",
    "plt.title(\"Linear Independence Simulation\")\n",
    "plt.legend([\"noise\", \"no noise\"]);"
   ]
  },
  {
   "cell_type": "markdown",
   "id": "202f273a-0206-4565-b1b4-cd1ad3f40b2f",
   "metadata": {},
   "source": [
    "## Initialize Data"
   ]
  },
  {
   "cell_type": "code",
   "execution_count": 4,
   "id": "e76b8641-163e-40ea-9e0e-4a7b4e7642b3",
   "metadata": {},
   "outputs": [
    {
     "name": "stdout",
     "output_type": "stream",
     "text": [
      "u: [[0.48206185]]\n",
      "u norm: 0.48206185276773483\n"
     ]
    }
   ],
   "source": [
    "X, Y = lin_sim(100, 1, noise=True)\n",
    "N = 10\n",
    "D_X = dc.dist_mat(X, N)\n",
    "D_Y = dc.dist_mat(Y, N)\n",
    "R_X = dc.re_centered_dist(D_X)\n",
    "R_Y = dc.re_centered_dist(D_Y)\n",
    "u = np.random.rand(X.shape[1], 1)\n",
    "u = dc.clamp_u(u)\n",
    "u_norm = LA.norm(u)\n",
    "print(f\"u: {u}\")\n",
    "print(f\"u norm: {u_norm}\")\n",
    "R_X_u = dc.re_centered_dist_u(u, X, N)"
   ]
  },
  {
   "cell_type": "markdown",
   "id": "890a6a92-6a13-4dae-aa0b-7b57fb434624",
   "metadata": {},
   "source": [
    "## Test Function Dimension Alignment"
   ]
  },
  {
   "cell_type": "code",
   "execution_count": 5,
   "id": "3af69b44-19c3-4fbf-b5c7-b94a6c3aa22a",
   "metadata": {},
   "outputs": [
    {
     "name": "stdout",
     "output_type": "stream",
     "text": [
      "dvdu: [[0.25282266]]\n",
      "v^2: 0.2528226584063519\n"
     ]
    }
   ],
   "source": [
    "du = dc.dist_cov_sq_grad(u, X, Y, R_X, R_Y)\n",
    "print(f\"dvdu: {du}\")\n",
    "v = dc.dist_cov_sq(R_X, R_Y)\n",
    "print(f\"v^2: {v}\")"
   ]
  },
  {
   "cell_type": "markdown",
   "id": "96f699f9-9ed9-49fa-adbf-41a2ab5321be",
   "metadata": {},
   "source": [
    "## Optimize $u$"
   ]
  },
  {
   "cell_type": "code",
   "execution_count": 6,
   "id": "98683c3c-bc9f-4d65-9da0-6087435c67f3",
   "metadata": {},
   "outputs": [
    {
     "name": "stdout",
     "output_type": "stream",
     "text": [
      "v^2_u: 0.12187615913303018\n",
      "u opt: [[1.]]\n",
      "v^2_u_opt: 0.2528226584063519\n"
     ]
    }
   ],
   "source": [
    "v_u = dc.dist_cov_sq(R_Y, R_X_u)\n",
    "print(f\"v^2_u: {v_u}\")\n",
    "u_opt = dc.optim_u_gd(u, X, Y, R_X, R_Y, .1, 1000)\n",
    "print(f\"u opt: {u_opt}\")\n",
    "R_X_u_opt = dc.re_centered_dist_u(u_opt, X, N)\n",
    "v_u_opt = dc.dist_cov_sq(R_Y, R_X_u_opt)\n",
    "print(f\"v^2_u_opt: {v_u_opt}\")"
   ]
  },
  {
   "cell_type": "markdown",
   "id": "e3597bc6-8db4-4dc1-8b09-e5882e0460d2",
   "metadata": {},
   "source": [
    "## Plot Gradient Ascent"
   ]
  },
  {
   "cell_type": "code",
   "execution_count": 7,
   "id": "4d51c213-8a16-448f-b645-33e5436af949",
   "metadata": {},
   "outputs": [
    {
     "data": {
      "image/png": "[encoded data removed]",
      "text/plain": [
       "<Figure size 432x288 with 1 Axes>"
      ]
     },
     "metadata": {
      "needs_background": "light"
     },
     "output_type": "display_data"
    }
   ],
   "source": [
    "u_plt = np.expand_dims(np.linspace(0, 1, 11), 1)\n",
    "v_u_plt = []\n",
    "for i in range(u_plt.shape[0]):\n",
    "    R_X_u_i = dc.re_centered_dist_u(u_plt[i], X, N)\n",
    "    v_u_i = dc.dist_cov_sq(R_Y, R_X_u_i)\n",
    "    v_u_plt.append(v_u_i)\n",
    "plt.plot(u_plt, v_u_plt)\n",
    "plt.scatter([u], [v_u])\n",
    "plt.scatter([u_opt], [v_u_opt])\n",
    "plt.xlabel(r\"$u$\")\n",
    "plt.ylabel(r\"$v^2$\")\n",
    "plt.title(r\"1D Linear Independence $u$ Optimization\")\n",
    "plt.legend([r'$v$ surface', r'$v^2$ init', r'$v^2$ opt']);"
   ]
  },
  {
   "cell_type": "code",
   "execution_count": null,
   "id": "0a1988c5-a200-4dcf-a8e8-f44560f5e62f",
   "metadata": {},
   "outputs": [],
   "source": []
  }
 ],
 "metadata": {
  "kernelspec": {
   "display_name": "Python 3 (ipykernel)",
   "language": "python",
   "name": "python3"
  },
  "language_info": {
   "codemirror_mode": {
    "name": "ipython",
    "version": 3
   },
   "file_extension": ".py",
   "mimetype": "text/x-python",
   "name": "python",
   "nbconvert_exporter": "python",
   "pygments_lexer": "ipython3",
   "version": "3.9.7"
  }
 },
 "nbformat": 4,
 "nbformat_minor": 5
}
